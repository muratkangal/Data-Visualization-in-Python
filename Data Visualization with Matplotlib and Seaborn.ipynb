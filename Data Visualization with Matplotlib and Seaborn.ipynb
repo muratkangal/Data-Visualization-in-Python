{
 "cells": [
  {
   "cell_type": "markdown",
   "metadata": {
    "id": "SFN66X63c2RL"
   },
   "source": [
    "# 1. PLOT BASIC LINE PLOT"
   ]
  },
  {
   "cell_type": "code",
   "execution_count": null,
   "metadata": {},
   "outputs": [],
   "source": [
    "%pip install --extra-index-url https://test.pypi.org/simple/ vectice==23.4.2.0a11304232\n",
    "%pip install vectice[autolog]"
   ]
  },
  {
   "cell_type": "code",
   "execution_count": null,
   "metadata": {},
   "outputs": [],
   "source": [
    "from vectice import autolog\n",
    "autolog.config(api_token=\"QMO4mM3AJ.yYe7o0zE24laD3PXZnGLQMO4mM3AJ6p89wNWxmqd5Bv1KbkrRV\", host=\"https://qa.vectice.com\", phase=\"PHA-7076\")"
   ]
  },
  {
   "cell_type": "code",
   "execution_count": null,
   "metadata": {},
   "outputs": [],
   "source": [
    "%pip install jupyterthemes==0.15.9\n",
    "from jupyterthemes import jtplot\n",
    "jtplot.style(theme = 'monokai', context = 'notebook', ticks = True, grid = False) \n",
    "# setting the style of the notebook to be monokai theme  \n",
    "# this line of code is important to ensure that we are able to see the x and y axes clearly\n",
    "# If you don't run this code line, you will notice that the xlabel and ylabel on any plot is black on black and it will be hard to see them. \n"
   ]
  },
  {
   "cell_type": "code",
   "execution_count": null,
   "metadata": {
    "id": "C7C1-cY2FCWh"
   },
   "outputs": [],
   "source": [
    "import numpy as np\n",
    "import matplotlib.pyplot as plt\n",
    "import pandas as pd"
   ]
  },
  {
   "cell_type": "code",
   "execution_count": null,
   "metadata": {
    "colab": {
     "base_uri": "https://localhost:8080/",
     "height": 415
    },
    "id": "FvlrxCdTc55r",
    "outputId": "dcfd2bf6-b96c-4f64-f88e-369c4ef82454"
   },
   "outputs": [],
   "source": [
    "# Read the stock prices data using pandas\n",
    "stock_df = pd.read_csv('data/stock_data.csv')\n",
    "stock_df"
   ]
  },
  {
   "cell_type": "code",
   "execution_count": null,
   "metadata": {
    "colab": {
     "base_uri": "https://localhost:8080/",
     "height": 295
    },
    "id": "faUG290aLAcq",
    "outputId": "d81afd42-11ca-4847-9737-3384e63baf5d"
   },
   "outputs": [],
   "source": [
    "stock_df.plot(x = 'Date', y = 'FB', label = 'Facebook Stock Price', figsize = (15, 10), linewidth = 3)\n",
    "plt.ylabel('Price [$]')\n",
    "plt.title('My first plotting exercise')\n",
    "plt.legend(loc = 'upper right')\n",
    "plt.grid()\n",
    "plt.savefig(\"My first plotting exercise-1.png\")"
   ]
  },
  {
   "cell_type": "markdown",
   "metadata": {
    "id": "Y0xttudVvOVe"
   },
   "source": [
    "Explore more:\n",
    "- Plot similar kind of graph for NFLX\n",
    "- Change the line color to red and increase the line width\n"
   ]
  },
  {
   "cell_type": "code",
   "execution_count": null,
   "metadata": {
    "id": "PGq_ZTEUv6u9"
   },
   "outputs": [],
   "source": [
    "stock_df.plot(x = 'Date', y = 'NFLX', label = 'Netflix Stock Price', figsize = (15, 10), linewidth = 5, color = 'r')\n",
    "plt.ylabel('Price [$]')\n",
    "plt.title('My first plotting exercise')\n",
    "plt.legend(loc = 'upper right')\n",
    "plt.grid()\n",
    "plt.savefig(\"My first plotting exercise.png\")"
   ]
  },
  {
   "cell_type": "markdown",
   "metadata": {
    "id": "Zt75d5cadpZI"
   },
   "source": [
    "# 2. PLOT SCATTERPLOT "
   ]
  },
  {
   "cell_type": "code",
   "execution_count": null,
   "metadata": {
    "colab": {
     "base_uri": "https://localhost:8080/",
     "height": 415
    },
    "id": "zW1BYqO9nQ2r",
    "outputId": "48437136-6ede-4648-94e8-cd73c379e381"
   },
   "outputs": [],
   "source": [
    "# Read daily return data using pandas\n",
    "daily_return_df = pd.read_csv('data/stocks_daily_returns.csv')\n",
    "daily_return_df"
   ]
  },
  {
   "cell_type": "code",
   "execution_count": null,
   "metadata": {
    "colab": {
     "base_uri": "https://localhost:8080/",
     "height": 265
    },
    "id": "mynyAlrOdMb3",
    "outputId": "ad817ac2-a9ba-4821-b99e-fbd1cdb71961"
   },
   "outputs": [],
   "source": [
    "x = daily_return_df['FB']\n",
    "x"
   ]
  },
  {
   "cell_type": "code",
   "execution_count": null,
   "metadata": {},
   "outputs": [],
   "source": [
    "y = daily_return_df['TWTR']\n",
    "y"
   ]
  },
  {
   "cell_type": "code",
   "execution_count": null,
   "metadata": {},
   "outputs": [],
   "source": [
    "plt.figure(figsize = (15, 10))\n",
    "plt.scatter(x, y)\n",
    "plt.grid()\n",
    "plt.savefig(\"Stock Portfolio-3.png\")"
   ]
  },
  {
   "cell_type": "markdown",
   "metadata": {
    "id": "b-NkBddLe3IK"
   },
   "source": [
    "# 3. PLOT PIE CHART"
   ]
  },
  {
   "cell_type": "code",
   "execution_count": null,
   "metadata": {
    "colab": {
     "base_uri": "https://localhost:8080/",
     "height": 427
    },
    "id": "Hj7erO-_e2ph",
    "outputId": "9d2e5d6b-86e5-45ba-ab0b-1d0d80661747"
   },
   "outputs": [],
   "source": [
    "values = [20, 55, 5, 17, 3]\n",
    "colors = ['g', 'r', 'y', 'b', 'm']\n",
    "labels = [\"Apple\", \"Google\", \"T\", \"TSLA\", \"AMZN\"]\n",
    "explode = [0, 0.2, 0, 0, 0.2]\n",
    "# Use matplotlib to plot a pie chart \n",
    "plt.figure(figsize = (10, 10))\n",
    "plt.pie(values, colors = colors, labels = labels, explode = explode)\n",
    "plt.title('Stock Portfolio')\n",
    "plt.savefig(\"Stock Portfolio-1.png\")"
   ]
  },
  {
   "cell_type": "markdown",
   "metadata": {
    "id": "pd-IMixVwfH0"
   },
   "source": [
    "Explore more:\n",
    "- Plot the pie chart for the same stocks assuming equal allocation\n",
    "- Explode Amazon and Google slices\n"
   ]
  },
  {
   "cell_type": "code",
   "execution_count": null,
   "metadata": {
    "id": "3t4uDR6ixE3x"
   },
   "outputs": [],
   "source": [
    "values = [20, 20, 20, 20, 20]\n",
    "colors = ['g', 'r', 'y', 'b', 'm']\n",
    "labels = [\"Apple\", \"Google\", \"T\", \"TSLA\", \"AMZN\"]\n",
    "explode = [0, 0.2, 0, 0, 0.2]\n",
    "# Use matplotlib to plot a pie chart \n",
    "plt.figure(figsize = (10, 10))\n",
    "plt.pie(values, colors = colors, labels = labels, explode = explode)\n",
    "plt.title('Stock Portfolio')\n",
    "plt.savefig(\"Stock Portfolio.png\")"
   ]
  },
  {
   "cell_type": "markdown",
   "metadata": {
    "id": "wmjT_xMffg-X"
   },
   "source": [
    "# 4. PLOT HISTOGRAMS"
   ]
  },
  {
   "cell_type": "code",
   "execution_count": null,
   "metadata": {
    "colab": {
     "base_uri": "https://localhost:8080/",
     "height": 336
    },
    "id": "NH2akC9gfkXZ",
    "outputId": "60fa3099-677b-474c-b6de-6a6ab218714c"
   },
   "outputs": [],
   "source": [
    "# A histogram represents data using bars of various heights. \n",
    "# Each bar groups numbers inato specific ranges. \n",
    "# Taller bars show that more data falls within that specific range.\n",
    "mu = daily_return_df['FB'].mean()\n",
    "sigma = daily_return_df['FB'].std()\n",
    "\n",
    "num_bins = 40\n",
    "plt.figure(figsize = (15, 9))\n",
    "plt.hist(daily_return_df['FB'], num_bins, facecolor = 'blue'); # ; is to get rid of extra text printing\n",
    "plt.grid()\n",
    "\n",
    "plt.title('Historgram: mu = ' + str(mu) + ', sigma: ' + str(sigma))\n",
    "plt.savefig(\"Historgram.png\")"
   ]
  },
  {
   "cell_type": "markdown",
   "metadata": {
    "id": "BTQLC7N3hXFP"
   },
   "source": [
    "# 5. PLOT MULTIPLE PLOTS"
   ]
  },
  {
   "cell_type": "code",
   "execution_count": null,
   "metadata": {},
   "outputs": [],
   "source": [
    "stock_df.plot(x = 'Date', y = ['NFLX', 'FB', 'TWTR'], figsize = (18, 10), linewidth = 3)\n",
    "plt.ylabel('price [$]')\n",
    "plt.title('Stock Prices')\n",
    "plt.grid()\n",
    "plt.legend(loc = 'upper center')\n",
    "plt.savefig(\"stock-3.png\")"
   ]
  },
  {
   "cell_type": "markdown",
   "metadata": {
    "id": "LMec3MtVhj7U"
   },
   "source": [
    "# 6. PLOT SUBPLOTS"
   ]
  },
  {
   "cell_type": "code",
   "execution_count": null,
   "metadata": {
    "colab": {
     "base_uri": "https://localhost:8080/",
     "height": 320
    },
    "id": "x54BNHlshgp8",
    "outputId": "aafa8f78-3844-4118-c1bf-90d8fe455154"
   },
   "outputs": [],
   "source": [
    "plt.figure(figsize = (20, 10))\n",
    "\n",
    "plt.subplot(1, 2, 1) # will have 1 row and 2 columns, we are plotting first one\n",
    "plt.plot(stock_df['NFLX'], 'r--') # r color, -- style\n",
    "plt.grid()\n",
    "\n",
    "plt.subplot(1, 2, 2) # will have 1 row and 2 columns, we are plotting second one\n",
    "plt.plot(stock_df['FB'], 'b.')\n",
    "plt.grid()\n",
    "plt.savefig(\"stock-1.png\")"
   ]
  },
  {
   "cell_type": "code",
   "execution_count": null,
   "metadata": {
    "colab": {
     "base_uri": "https://localhost:8080/",
     "height": 483
    },
    "id": "Iz3yKDybhoXV",
    "outputId": "ec06be08-19a5-48b3-9c21-4170f9d0d5e5"
   },
   "outputs": [],
   "source": [
    "plt.figure(figsize = (20, 10))\n",
    "\n",
    "plt.subplot(2, 1, 1) # will have 2 rows and 1 column, we are plotting first one\n",
    "plt.plot(stock_df['NFLX'], 'r--') # r color, -- style\n",
    "plt.grid()\n",
    "\n",
    "plt.subplot(2, 1, 2) # will have 2 rows and 1 column, we are plotting second one\n",
    "plt.plot(stock_df['FB'], 'b.')\n",
    "plt.grid()\n",
    "plt.savefig(\"stock.png\")"
   ]
  },
  {
   "cell_type": "markdown",
   "metadata": {
    "id": "9ikBNbK8xVdp"
   },
   "source": [
    "Explore more:\n",
    "- Create subplots like above for Twitter, Facebook and Netflix"
   ]
  },
  {
   "cell_type": "code",
   "execution_count": null,
   "metadata": {
    "id": "0_NHeonay6Jr"
   },
   "outputs": [],
   "source": [
    "plt.figure(figsize = (17, 17))\n",
    "\n",
    "plt.subplot(3, 1, 1) # will have 2 rows and 1 column, we are plotting first one\n",
    "plt.plot(stock_df['NFLX'], 'r--') # r color, -- style\n",
    "plt.grid()\n",
    "\n",
    "plt.subplot(3, 1, 2) # will have 2 rows and 1 column, we are plotting second one\n",
    "plt.plot(stock_df['FB'], 'b.')\n",
    "plt.grid()\n",
    "\n",
    "plt.subplot(3, 1, 3) # will have 2 rows and 1 column, we are plotting second one\n",
    "plt.plot(stock_df['TWTR'], 'y--')\n",
    "plt.grid()\n",
    "plt.savefig(\"rates.png\")"
   ]
  },
  {
   "cell_type": "markdown",
   "metadata": {
    "id": "0DkuOB6jje-T"
   },
   "source": [
    "# 7. PLOT 3D PLOTS"
   ]
  },
  {
   "cell_type": "code",
   "execution_count": null,
   "metadata": {
    "colab": {
     "base_uri": "https://localhost:8080/",
     "height": 375
    },
    "id": "uk9JlBKYhvOG",
    "outputId": "2f936367-9bf6-4143-b59c-beb600090d80"
   },
   "outputs": [],
   "source": [
    "# Toolkits are collections of application-specific functions that extend Matplotlib.\n",
    "# mpl_toolkits.mplot3d provides tools for basic 3D plotting.\n",
    "# https://matplotlib.org/mpl_toolkits/index.html\n",
    "\n",
    "from mpl_toolkits.mplot3d import Axes3D\n",
    "\n",
    "fig = plt.figure(figsize = (15, 15))\n",
    "ax = fig.add_subplot(111, projection = '3d')\n",
    "\n",
    "x = [1, 2, 3, 4, 5, 6, 7, 8, 9, 10]\n",
    "y = [5, 6, 2, 3, 13, 4, 1, 2, 4, 8]\n",
    "z = [2, 3, 3, 3, 5, 7, 9, 11, 9, 10]\n",
    "\n",
    "ax.scatter(x, y, z, c = 'b', s = 1000) # c for color, s for size of each points\n",
    "ax.set_xlabel('X label')\n",
    "ax.set_ylabel('Y label')\n",
    "ax.set_zlabel('Z label')\n",
    "plt.savefig(\"3D-1.png\")"
   ]
  },
  {
   "cell_type": "markdown",
   "metadata": {
    "id": "btSvXnR6xWtl"
   },
   "source": [
    "Explore more:\n",
    "- Create a 3D plot with daily return values of Twitter, Facebook and Netflix\n"
   ]
  },
  {
   "cell_type": "code",
   "execution_count": null,
   "metadata": {
    "id": "v-pZxhASz1w1"
   },
   "outputs": [],
   "source": [
    "fig = plt.figure(figsize = (15, 15))\n",
    "ax = fig.add_subplot(111, projection = '3d')\n",
    "\n",
    "x = daily_return_df['FB'].tolist()\n",
    "y = daily_return_df['TWTR'].tolist()\n",
    "z = daily_return_df['NFLX'].tolist()\n",
    "\n",
    "ax.scatter(x, y, z, c = 'r', s = 1000) # c for color, s for size of each points\n",
    "ax.set_xlabel('X label')\n",
    "ax.set_ylabel('Y label')\n",
    "ax.set_zlabel('Z label')\n",
    "plt.savefig(\"3D.png\")"
   ]
  },
  {
   "cell_type": "markdown",
   "metadata": {
    "id": "kxw_XWTcWk88"
   },
   "source": [
    "# 8. SEABRON SCATTERPLOT & COUNTPLOT"
   ]
  },
  {
   "cell_type": "code",
   "execution_count": null,
   "metadata": {},
   "outputs": [],
   "source": [
    "# Seaborn is a visualization library that sits on top of matplotlib\n",
    "# Seaborn offers enhanced features compared to matplotlib\n",
    "# https://seaborn.pydata.org/examples/index.html\n",
    "\n",
    "# import libraries \n",
    "import seaborn as sns # Statistical data visualization\n"
   ]
  },
  {
   "cell_type": "code",
   "execution_count": null,
   "metadata": {},
   "outputs": [],
   "source": [
    "# Import Cancer data drom the Sklearn library\n",
    "from sklearn.datasets import load_breast_cancer\n",
    "cancer = load_breast_cancer()\n",
    "cancer\n"
   ]
  },
  {
   "cell_type": "code",
   "execution_count": null,
   "metadata": {},
   "outputs": [],
   "source": [
    "# Create a dataFrame named df_cancer with input/output data\n",
    "df_cancer = pd.DataFrame(np.c_[cancer['data'], cancer['target']], columns = np.append(cancer['feature_names'], ['target']))"
   ]
  },
  {
   "cell_type": "code",
   "execution_count": null,
   "metadata": {},
   "outputs": [],
   "source": [
    "# Check out the head of the dataframe\n",
    "df_cancer"
   ]
  },
  {
   "cell_type": "code",
   "execution_count": null,
   "metadata": {},
   "outputs": [],
   "source": [
    "# Check out the heaf of the dataframe\n",
    "df_cancer.head(7)"
   ]
  },
  {
   "cell_type": "code",
   "execution_count": null,
   "metadata": {},
   "outputs": [],
   "source": [
    "# Check out the tail of the dataframe\n",
    "df_cancer.tail(7)"
   ]
  },
  {
   "cell_type": "code",
   "execution_count": null,
   "metadata": {},
   "outputs": [],
   "source": [
    "# Plot scatter plot between mean area and mean smoothness\n",
    "plt.figure(figsize = (10,10))\n",
    "sns.scatterplot(x = 'mean area', y = 'mean smoothness', hue = 'target', data = df_cancer)\n",
    "plt.savefig(\"cancer-3.png\")"
   ]
  },
  {
   "cell_type": "code",
   "execution_count": null,
   "metadata": {},
   "outputs": [],
   "source": [
    "# Let's print out countplot to know how many samples belong to class #0 and #1\n",
    "plt.figure(figsize = (10,10))\n",
    "sns.countplot(df_cancer['target'], label = 'Count')\n",
    "plt.savefig(\"target.png\")"
   ]
  },
  {
   "cell_type": "markdown",
   "metadata": {},
   "source": [
    "# 9. SEABORN PAIRPLOT, DISPLOT, AND HEATMAPS/CORRELATIONS\n"
   ]
  },
  {
   "cell_type": "code",
   "execution_count": null,
   "metadata": {},
   "outputs": [],
   "source": [
    "# Plot the pairplot\n",
    "sns.pairplot(df_cancer, hue = 'target', vars = ['mean radius', 'mean texture', 'mean area', 'mean perimeter', 'mean smoothness'])\n",
    "plt.savefig(\"cancer-2.png\")"
   ]
  },
  {
   "cell_type": "code",
   "execution_count": null,
   "metadata": {},
   "outputs": [],
   "source": [
    "# Strong correlation between the mean radius and mean perimeter, mean area and mean primeter\n",
    "plt.figure(figsize = (30, 30)) \n",
    "sns.heatmap(df_cancer.corr(), annot = True)\n",
    "plt.savefig(\"cancer-1.png\")"
   ]
  },
  {
   "cell_type": "code",
   "execution_count": null,
   "metadata": {},
   "outputs": [],
   "source": [
    "# plot the distplot \n",
    "# Displot combines matplotlib histogram function with kdeplot() (Kernel density estimate)\n",
    "# KDE is used to plot the Probability Density of a continuous variable. \n",
    "\n",
    "sns.distplot(df_cancer['mean radius'], bins = 25, color = 'b')\n",
    "plt.savefig(\"cancer.png\")"
   ]
  },
  {
   "cell_type": "markdown",
   "metadata": {},
   "source": [
    "Explore more:\n",
    "- Plot two separate distplot for each target class #0 and target class #1"
   ]
  },
  {
   "cell_type": "code",
   "execution_count": null,
   "metadata": {},
   "outputs": [],
   "source": [
    "class_0_df = df_cancer[df_cancer['target'] == 0]\n",
    "class_1_df = df_cancer[df_cancer['target'] == 1]"
   ]
  },
  {
   "cell_type": "code",
   "execution_count": null,
   "metadata": {},
   "outputs": [],
   "source": [
    "class_0_df"
   ]
  },
  {
   "cell_type": "code",
   "execution_count": null,
   "metadata": {},
   "outputs": [],
   "source": [
    "class_1_df"
   ]
  },
  {
   "cell_type": "code",
   "execution_count": null,
   "metadata": {},
   "outputs": [],
   "source": [
    "plt.figure(figsize = (10, 7))\n",
    "sns.distplot(class_0_df['mean radius'], bins = 25, color = 'blue')\n",
    "sns.distplot(class_1_df['mean radius'], bins = 25, color = 'red')\n",
    "plt.grid()\n",
    "plt.savefig(\"Distributions.png\")"
   ]
  },
  {
   "cell_type": "markdown",
   "metadata": {},
   "source": [
    "# APPENDIX"
   ]
  },
  {
   "cell_type": "code",
   "execution_count": null,
   "metadata": {},
   "outputs": [],
   "source": [
    "# np.C_ class object translates slice objects to concatenation along the second axis.\n",
    "\n",
    "x1 = np.array([1, 2, 3])\n",
    "x1.shape\n",
    "\n",
    "x2 = np.array([4, 5, 6])\n",
    "x2.shape\n",
    "z = np.c_[x1, x2]\n",
    "print(z)\n",
    "print(z.shape)"
   ]
  },
  {
   "cell_type": "code",
   "execution_count": null,
   "metadata": {},
   "outputs": [],
   "source": [
    "autolog.notebook()"
   ]
  },
  {
   "cell_type": "code",
   "execution_count": null,
   "metadata": {},
   "outputs": [],
   "source": []
  }
 ],
 "metadata": {
  "colab": {
   "collapsed_sections": [],
   "name": "9. Python 101 - Data Visualization with matplotlib - Solution.ipynb",
   "provenance": []
  },
  "kernelspec": {
   "display_name": "Python 3 (ipykernel)",
   "language": "python",
   "name": "python3"
  },
  "language_info": {
   "codemirror_mode": {
    "name": "ipython",
    "version": 3
   },
   "file_extension": ".py",
   "mimetype": "text/x-python",
   "name": "python",
   "nbconvert_exporter": "python",
   "pygments_lexer": "ipython3",
   "version": "3.11.3"
  }
 },
 "nbformat": 4,
 "nbformat_minor": 4
}
